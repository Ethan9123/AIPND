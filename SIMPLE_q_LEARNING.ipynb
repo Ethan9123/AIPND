{
  "nbformat": 4,
  "nbformat_minor": 0,
  "metadata": {
    "colab": {
      "name": "SIMPLE q LEARNING.ipynb",
      "provenance": [],
      "authorship_tag": "ABX9TyPmLb1V1FzWFICJwEwYoYrK",
      "include_colab_link": true
    },
    "kernelspec": {
      "name": "python3",
      "display_name": "Python 3"
    }
  },
  "cells": [
    {
      "cell_type": "markdown",
      "metadata": {
        "id": "view-in-github",
        "colab_type": "text"
      },
      "source": [
        "<a href=\"https://colab.research.google.com/github/Ethan9123/AIPND/blob/master/SIMPLE_q_LEARNING.ipynb\" target=\"_parent\"><img src=\"https://colab.research.google.com/assets/colab-badge.svg\" alt=\"Open In Colab\"/></a>"
      ]
    },
    {
      "cell_type": "code",
      "metadata": {
        "id": "Qx2DV7Jb2QsZ",
        "colab_type": "code",
        "colab": {}
      },
      "source": [
        "import numpy as np\n",
        "import pandas as pd\n",
        "import time\n"
      ],
      "execution_count": 0,
      "outputs": []
    },
    {
      "cell_type": "code",
      "metadata": {
        "id": "Pr-5WKlw2W4T",
        "colab_type": "code",
        "colab": {}
      },
      "source": [
        "np.random.seed(2)"
      ],
      "execution_count": 0,
      "outputs": []
    },
    {
      "cell_type": "code",
      "metadata": {
        "id": "Hp__m-nJ2ZtZ",
        "colab_type": "code",
        "colab": {}
      },
      "source": [
        "N_STATES = 6 #the length of the 1 dimensional world\n",
        "ACTIONS = ['left','right'] #availabel actions\n",
        "EPSILON =0.9 # greedy police\n",
        "ALPHA =0.1 # learning rate\n",
        "GAMMA =0.9 # DISCOUNT FACTOR\n",
        "max_episodes = 13 # maximum epidodes\n",
        "FRESH_TIME = 0.3 # fresh time for one move\n"
      ],
      "execution_count": 0,
      "outputs": []
    },
    {
      "cell_type": "code",
      "metadata": {
        "id": "SAsSOsWm2rMR",
        "colab_type": "code",
        "colab": {}
      },
      "source": [
        "def build_q_table(n_states, actions):\n",
        "  table =pd.DataFrame(\n",
        "      np.zeros((n_states, len(actions))),\n",
        "      columns =actions,   # actions's name\n",
        "      )\n",
        "  print(table)\n",
        "  return table"
      ],
      "execution_count": 0,
      "outputs": []
    },
    {
      "cell_type": "code",
      "metadata": {
        "id": "mfpwRunWH_25",
        "colab_type": "code",
        "colab": {
          "base_uri": "https://localhost:8080/",
          "height": 354
        },
        "outputId": "1e4e03bd-aa0d-4296-e99d-c70d818b72b9"
      },
      "source": [
        "build_q_table(N_STATES, ACTIONS)"
      ],
      "execution_count": 7,
      "outputs": [
        {
          "output_type": "stream",
          "text": [
            "   left  right\n",
            "0   0.0    0.0\n",
            "1   0.0    0.0\n",
            "2   0.0    0.0\n",
            "3   0.0    0.0\n",
            "4   0.0    0.0\n",
            "5   0.0    0.0\n"
          ],
          "name": "stdout"
        },
        {
          "output_type": "execute_result",
          "data": {
            "text/html": [
              "<div>\n",
              "<style scoped>\n",
              "    .dataframe tbody tr th:only-of-type {\n",
              "        vertical-align: middle;\n",
              "    }\n",
              "\n",
              "    .dataframe tbody tr th {\n",
              "        vertical-align: top;\n",
              "    }\n",
              "\n",
              "    .dataframe thead th {\n",
              "        text-align: right;\n",
              "    }\n",
              "</style>\n",
              "<table border=\"1\" class=\"dataframe\">\n",
              "  <thead>\n",
              "    <tr style=\"text-align: right;\">\n",
              "      <th></th>\n",
              "      <th>left</th>\n",
              "      <th>right</th>\n",
              "    </tr>\n",
              "  </thead>\n",
              "  <tbody>\n",
              "    <tr>\n",
              "      <th>0</th>\n",
              "      <td>0.0</td>\n",
              "      <td>0.0</td>\n",
              "    </tr>\n",
              "    <tr>\n",
              "      <th>1</th>\n",
              "      <td>0.0</td>\n",
              "      <td>0.0</td>\n",
              "    </tr>\n",
              "    <tr>\n",
              "      <th>2</th>\n",
              "      <td>0.0</td>\n",
              "      <td>0.0</td>\n",
              "    </tr>\n",
              "    <tr>\n",
              "      <th>3</th>\n",
              "      <td>0.0</td>\n",
              "      <td>0.0</td>\n",
              "    </tr>\n",
              "    <tr>\n",
              "      <th>4</th>\n",
              "      <td>0.0</td>\n",
              "      <td>0.0</td>\n",
              "    </tr>\n",
              "    <tr>\n",
              "      <th>5</th>\n",
              "      <td>0.0</td>\n",
              "      <td>0.0</td>\n",
              "    </tr>\n",
              "  </tbody>\n",
              "</table>\n",
              "</div>"
            ],
            "text/plain": [
              "   left  right\n",
              "0   0.0    0.0\n",
              "1   0.0    0.0\n",
              "2   0.0    0.0\n",
              "3   0.0    0.0\n",
              "4   0.0    0.0\n",
              "5   0.0    0.0"
            ]
          },
          "metadata": {
            "tags": []
          },
          "execution_count": 7
        }
      ]
    },
    {
      "cell_type": "code",
      "metadata": {
        "id": "5hW4Y60N3jH8",
        "colab_type": "code",
        "colab": {}
      },
      "source": [
        "def choose_action(state, q_table):\n",
        "  # This is how to choose an action\n",
        "  state_actions = q_table.iloc[state, :]\n",
        "  if (np.random.uniform() > EPSILON or (state_actions.all()==0)): \n",
        "    action_name = np.random.choice(ACTIONS)\n",
        "  else: # act greedy\n",
        "    action_name = state_actions.argmax()\n",
        "  return action_name\n"
      ],
      "execution_count": 0,
      "outputs": []
    },
    {
      "cell_type": "code",
      "metadata": {
        "id": "Ag4PaAlOH9xU",
        "colab_type": "code",
        "colab": {}
      },
      "source": [
        ""
      ],
      "execution_count": 0,
      "outputs": []
    },
    {
      "cell_type": "code",
      "metadata": {
        "id": "8d1hEKhS38HJ",
        "colab_type": "code",
        "colab": {}
      },
      "source": [
        "def get_env_feedback(S, A):\n",
        "  if A == 'right':\n",
        "    if S == N_STATES - 2:\n",
        "      S_ = 'terminal'\n",
        "      R = 1\n",
        "    else:\n",
        "      S_ = S +1\n",
        "      R = 0\n",
        "  else:\n",
        "    R = 0\n",
        "    if S ==0 :\n",
        "      S_ = S\n",
        "    else:\n",
        "      S_ = S-1\n",
        "  return S_, R\n",
        "  "
      ],
      "execution_count": 0,
      "outputs": []
    },
    {
      "cell_type": "code",
      "metadata": {
        "id": "EvkZ2Q1MJU1f",
        "colab_type": "code",
        "colab": {}
      },
      "source": [
        "def update_env(S, episode, step_counter):\n",
        "  # This is how environment be updated\n",
        "  env_list = ['-'] * (N_STATES -1) + ['T']\n",
        "  if S == 'terminal':\n",
        "    interaction = 'Episode %s: toral_stpes = %s' % (episode+1,step_counter)\n",
        "    print('\\r{}'.format(interaction), end='')\n",
        "    time.sleep(2)\n",
        "    print ('\\r          ', end='')\n",
        "  else:\n",
        "    env_list[S] = 'o'\n",
        "    interaction = ''.join(env_list)\n",
        "    print('\\r{}'.format(interaction), end ='')\n",
        "    time.sleep(FRESH_TIME)"
      ],
      "execution_count": 0,
      "outputs": []
    },
    {
      "cell_type": "code",
      "metadata": {
        "id": "6jsA_4SQ4MwX",
        "colab_type": "code",
        "colab": {}
      },
      "source": [
        "def rl():\n",
        "    # main part of RL loop\n",
        "    q_table = build_q_table(N_STATES, ACTIONS)\n",
        "    for episode in range(max_episodes):\n",
        "        step_counter = 0\n",
        "        S = 0\n",
        "        is_terminated = False\n",
        "        update_env(S, episode, step_counter)\n",
        "        while not is_terminated:\n",
        "\n",
        "            A = choose_action(S, q_table)\n",
        "            S_, R = get_env_feedback(S, A)  # take action & get next state and reward\n",
        "            q_predict = q_table.loc[S, A]\n",
        "            if S_ != 'terminal':\n",
        "                q_target = R + GAMMA * q_table.iloc[S_, :].max()   # next state is not terminal\n",
        "            else:\n",
        "                q_target = R     # next state is terminal\n",
        "                is_terminated = True    # terminate this episode\n",
        "\n",
        "            q_table.loc[S, A] += ALPHA * (q_target - q_predict)  # update\n",
        "            S = S_  # move to next state\n",
        "\n",
        "            update_env(S, episode, step_counter+1)\n",
        "            step_counter += 1\n",
        "    return q_table"
      ],
      "execution_count": 0,
      "outputs": []
    },
    {
      "cell_type": "code",
      "metadata": {
        "id": "BIRYtIMWLZ1b",
        "colab_type": "code",
        "colab": {
          "base_uri": "https://localhost:8080/",
          "height": 471
        },
        "outputId": "0ab53363-c8d6-4589-a9af-db87cea29aec"
      },
      "source": [
        "if __name__ == \"__main__\":\n",
        "    q_table = rl()\n",
        "    print('\\r\\nQ-table:\\n')\n",
        "    print(q_table)"
      ],
      "execution_count": 29,
      "outputs": [
        {
          "output_type": "stream",
          "text": [
            "   left  right\n",
            "0   0.0    0.0\n",
            "1   0.0    0.0\n",
            "2   0.0    0.0\n",
            "3   0.0    0.0\n",
            "4   0.0    0.0\n",
            "5   0.0    0.0\n",
            "----oT"
          ],
          "name": "stdout"
        },
        {
          "output_type": "stream",
          "text": [
            "/usr/local/lib/python3.6/dist-packages/ipykernel_launcher.py:6: FutureWarning: \n",
            "The current behaviour of 'Series.argmax' is deprecated, use 'idxmax'\n",
            "instead.\n",
            "The behavior of 'argmax' will be corrected to return the positional\n",
            "maximum in the future. For now, use 'series.values.argmax' or\n",
            "'np.argmax(np.array(values))' to get the position of the maximum\n",
            "row.\n",
            "  \n"
          ],
          "name": "stderr"
        },
        {
          "output_type": "stream",
          "text": [
            "          \n",
            "Q-table:\n",
            "\n",
            "           left     right\n",
            "0  5.904900e-07  0.005326\n",
            "1  5.904900e-07  0.027463\n",
            "2  1.758013e-04  0.128633\n",
            "3  1.025946e-02  0.343331\n",
            "4  8.100000e-04  0.745813\n",
            "5  0.000000e+00  0.000000\n"
          ],
          "name": "stdout"
        }
      ]
    },
    {
      "cell_type": "markdown",
      "metadata": {
        "id": "jXXPOihX4Ldn",
        "colab_type": "text"
      },
      "source": [
        ""
      ]
    }
  ]
}